{
 "cells": [
  {
   "cell_type": "code",
   "execution_count": 3,
   "metadata": {},
   "outputs": [
    {
     "name": "stdout",
     "output_type": "stream",
     "text": [
      "Requirement already satisfied: flask in c:\\users\\thilo\\onedrive\\dokumente\\code\\fitanalysis\\.conda\\lib\\site-packages (3.0.3)\n",
      "Requirement already satisfied: fitparse in c:\\users\\thilo\\onedrive\\dokumente\\code\\fitanalysis\\.conda\\lib\\site-packages (1.2.0)\n",
      "Requirement already satisfied: gpxpy in c:\\users\\thilo\\onedrive\\dokumente\\code\\fitanalysis\\.conda\\lib\\site-packages (1.6.2)\n",
      "Requirement already satisfied: pandas in c:\\users\\thilo\\onedrive\\dokumente\\code\\fitanalysis\\.conda\\lib\\site-packages (2.2.3)\n",
      "Requirement already satisfied: numpy in c:\\users\\thilo\\onedrive\\dokumente\\code\\fitanalysis\\.conda\\lib\\site-packages (2.1.2)\n",
      "Collecting plotly\n",
      "  Downloading plotly-5.24.1-py3-none-any.whl.metadata (7.3 kB)\n",
      "Requirement already satisfied: Werkzeug>=3.0.0 in c:\\users\\thilo\\onedrive\\dokumente\\code\\fitanalysis\\.conda\\lib\\site-packages (from flask) (3.0.4)\n",
      "Requirement already satisfied: Jinja2>=3.1.2 in c:\\users\\thilo\\onedrive\\dokumente\\code\\fitanalysis\\.conda\\lib\\site-packages (from flask) (3.1.4)\n",
      "Requirement already satisfied: itsdangerous>=2.1.2 in c:\\users\\thilo\\onedrive\\dokumente\\code\\fitanalysis\\.conda\\lib\\site-packages (from flask) (2.2.0)\n",
      "Requirement already satisfied: click>=8.1.3 in c:\\users\\thilo\\onedrive\\dokumente\\code\\fitanalysis\\.conda\\lib\\site-packages (from flask) (8.1.7)\n",
      "Requirement already satisfied: blinker>=1.6.2 in c:\\users\\thilo\\onedrive\\dokumente\\code\\fitanalysis\\.conda\\lib\\site-packages (from flask) (1.8.2)\n",
      "Requirement already satisfied: python-dateutil>=2.8.2 in c:\\users\\thilo\\onedrive\\dokumente\\code\\fitanalysis\\.conda\\lib\\site-packages (from pandas) (2.9.0)\n",
      "Requirement already satisfied: pytz>=2020.1 in c:\\users\\thilo\\onedrive\\dokumente\\code\\fitanalysis\\.conda\\lib\\site-packages (from pandas) (2024.2)\n",
      "Requirement already satisfied: tzdata>=2022.7 in c:\\users\\thilo\\onedrive\\dokumente\\code\\fitanalysis\\.conda\\lib\\site-packages (from pandas) (2024.2)\n",
      "Collecting tenacity>=6.2.0 (from plotly)\n",
      "  Downloading tenacity-9.0.0-py3-none-any.whl.metadata (1.2 kB)\n",
      "Requirement already satisfied: packaging in c:\\users\\thilo\\onedrive\\dokumente\\code\\fitanalysis\\.conda\\lib\\site-packages (from plotly) (24.1)\n",
      "Requirement already satisfied: colorama in c:\\users\\thilo\\onedrive\\dokumente\\code\\fitanalysis\\.conda\\lib\\site-packages (from click>=8.1.3->flask) (0.4.6)\n",
      "Requirement already satisfied: MarkupSafe>=2.0 in c:\\users\\thilo\\onedrive\\dokumente\\code\\fitanalysis\\.conda\\lib\\site-packages (from Jinja2>=3.1.2->flask) (3.0.1)\n",
      "Requirement already satisfied: six>=1.5 in c:\\users\\thilo\\onedrive\\dokumente\\code\\fitanalysis\\.conda\\lib\\site-packages (from python-dateutil>=2.8.2->pandas) (1.16.0)\n",
      "Downloading plotly-5.24.1-py3-none-any.whl (19.1 MB)\n",
      "   ---------------------------------------- 0.0/19.1 MB ? eta -:--:--\n",
      "   -- ------------------------------------- 1.0/19.1 MB 5.6 MB/s eta 0:00:04\n",
      "   ---- ----------------------------------- 2.4/19.1 MB 5.6 MB/s eta 0:00:03\n",
      "   ---------- ----------------------------- 5.0/19.1 MB 8.2 MB/s eta 0:00:02\n",
      "   --------------- ------------------------ 7.6/19.1 MB 9.4 MB/s eta 0:00:02\n",
      "   ---------------------- ----------------- 10.5/19.1 MB 10.1 MB/s eta 0:00:01\n",
      "   --------------------------- ------------ 13.1/19.1 MB 10.5 MB/s eta 0:00:01\n",
      "   --------------------------------- ------ 15.7/19.1 MB 10.8 MB/s eta 0:00:01\n",
      "   -------------------------------------- - 18.4/19.1 MB 11.0 MB/s eta 0:00:01\n",
      "   ---------------------------------------- 19.1/19.1 MB 10.9 MB/s eta 0:00:00\n",
      "Downloading tenacity-9.0.0-py3-none-any.whl (28 kB)\n",
      "Installing collected packages: tenacity, plotly\n",
      "Successfully installed plotly-5.24.1 tenacity-9.0.0\n"
     ]
    }
   ],
   "source": [
    "!pip install flask fitparse gpxpy pandas numpy plotly"
   ]
  }
 ],
 "metadata": {
  "kernelspec": {
   "display_name": "Python 3",
   "language": "python",
   "name": "python3"
  },
  "language_info": {
   "codemirror_mode": {
    "name": "ipython",
    "version": 3
   },
   "file_extension": ".py",
   "mimetype": "text/x-python",
   "name": "python",
   "nbconvert_exporter": "python",
   "pygments_lexer": "ipython3",
   "version": "3.12.7"
  }
 },
 "nbformat": 4,
 "nbformat_minor": 2
}
